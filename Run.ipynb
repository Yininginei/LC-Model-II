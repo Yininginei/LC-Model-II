{
 "cells": [
  {
   "cell_type": "code",
   "execution_count": 26,
   "metadata": {},
   "outputs": [
    {
     "ename": "NameError",
     "evalue": "name 'probClass1' is not defined",
     "output_type": "error",
     "traceback": [
      "\u001b[1;31m---------------------------------------------------------------------------\u001b[0m",
      "\u001b[1;31mNameError\u001b[0m                                 Traceback (most recent call last)",
      "\u001b[1;32m~\\COVID\\Model Estimation\\Automation\\2 Classes\\2Classes.py\u001b[0m in \u001b[0;36m<module>\u001b[1;34m\u001b[0m\n\u001b[0;32m   1380\u001b[0m \u001b[1;33m\u001b[0m\u001b[0m\n\u001b[0;32m   1381\u001b[0m     \u001b[1;31m# Likelihood Calculation\u001b[0m\u001b[1;33m\u001b[0m\u001b[1;33m\u001b[0m\u001b[1;33m\u001b[0m\u001b[0m\n\u001b[1;32m-> 1382\u001b[1;33m     LL = log(probClass1*ProbIndiv_1_a1*ProbIndiv_1_a2*ProbIndiv_1_a3*ProbIndiv_1_a4*ProbIndiv_1_a5*ProbIndiv_1_a6*ProbIndiv_1_a7*ProbIndiv_1_a8*ProbIndiv_1_a9*ProbIndiv_1_a10*ProbIndiv_1_a11*ProbIndiv_1_a12 + \\\n\u001b[0m\u001b[0;32m   1383\u001b[0m              probClass2*ProbIndiv_2_a1*ProbIndiv_2_a2*ProbIndiv_2_a3*ProbIndiv_2_a4*ProbIndiv_2_a5*ProbIndiv_2_a6*ProbIndiv_2_a7*ProbIndiv_2_a8*ProbIndiv_2_a9*ProbIndiv_2_a10*ProbIndiv_2_a11*ProbIndiv_2_a12)\n\u001b[0;32m   1384\u001b[0m \u001b[1;33m\u001b[0m\u001b[0m\n",
      "\u001b[1;31mNameError\u001b[0m: name 'probClass1' is not defined"
     ]
    }
   ],
   "source": [
    "%run 3Classes.py"
   ]
  },
  {
   "cell_type": "code",
   "execution_count": null,
   "metadata": {},
   "outputs": [],
   "source": []
  }
 ],
 "metadata": {
  "kernelspec": {
   "display_name": "Python 3",
   "language": "python",
   "name": "python3"
  },
  "language_info": {
   "codemirror_mode": {
    "name": "ipython",
    "version": 3
   },
   "file_extension": ".py",
   "mimetype": "text/x-python",
   "name": "python",
   "nbconvert_exporter": "python",
   "pygments_lexer": "ipython3",
   "version": "3.8.3"
  }
 },
 "nbformat": 4,
 "nbformat_minor": 4
}
